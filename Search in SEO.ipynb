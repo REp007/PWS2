{
 "cells": [
  {
   "cell_type": "markdown",
   "id": "ba5125ca",
   "metadata": {},
   "source": [
    "# Project Web Scraping 'SEO'"
   ]
  },
  {
   "cell_type": "markdown",
   "id": "6aac42a8",
   "metadata": {},
   "source": [
    "#### Project Number 2"
   ]
  },
  {
   "cell_type": "code",
   "execution_count": 27,
   "id": "95cf283c",
   "metadata": {},
   "outputs": [],
   "source": [
    "import os\n",
    "from bs4 import BeautifulSoup as bs\n",
    "import requests\n",
    "import csv"
   ]
  },
  {
   "cell_type": "code",
   "execution_count": null,
   "id": "e8035148",
   "metadata": {},
   "outputs": [],
   "source": []
  },
  {
   "cell_type": "code",
   "execution_count": 14,
   "id": "a7addceb",
   "metadata": {},
   "outputs": [],
   "source": [
    "def find_seo(url):\n",
    "    DATA_SEO = []\n",
    "    seo_data = {}\n",
    "    response = requests.get(url)\n",
    "    if response.status_code != 200:\n",
    "        print(\"Error: Unable to access the website.\")\n",
    "        return\n",
    "    \n",
    "    print(\"\\n\\nWebpage is currently being scrapped... please wait...\")\n",
    "    \n",
    "    soup = bs(response.text, \"html.parser\")\n",
    "    head = soup.head\n",
    "#     print(head.prettify())\n",
    "    title = head.title\n",
    "    seo_data[\"title\"] = title.string\n",
    "#     print(title.string)\n",
    "    meta_key = head.find_all([\"meta\"])[2]\n",
    "    meta_key = (meta_key[\"content\"]).split(\",\")\n",
    "    seo_data[\"key\"] = \"-\".join(meta_key)\n",
    "    meta_desc = head.find_all([\"meta\"])[3]\n",
    "    meta_desc = meta_desc[\"content\"]\n",
    "    seo_data[\"desc\"] = meta_desc\n",
    "    DATA_SEO.append(seo_data)\n",
    "    return DATA_SEO"
   ]
  },
  {
   "cell_type": "code",
   "execution_count": 29,
   "id": "0bc19b62",
   "metadata": {},
   "outputs": [],
   "source": [
    "def main():\n",
    "\n",
    "    webpage = input(\"Paste the webpage you would like to scrape (include http/https): \")\n",
    "    name_the_file = input(\"Name the file you would like to save the data in (don't include .csv): \")+\".csv\"\n",
    "    with open(name_the_file,\"w+\",newline=\"\", encoding=\"UTF-8\") as f:\n",
    "        thewriter = csv.DictWriter(f,delimiter=\",\",fieldnames=[\"title\",\"key\",\"desc\"])\n",
    "        thewriter.writeheader()\n",
    "        \n",
    "        \n",
    "    ListData = find_seo(webpage)\n",
    "    \n",
    "    with open(name_the_file,\"a+\",newline=\"\", encoding=\"UTF-8\") as fi:\n",
    "        thewriter = csv.DictWriter(fi,delimiter=\",\",fieldnames=[\"title\",\"key\",\"desc\"])\n",
    "        for x in ListData:\n",
    "            thewriter.writerow(x)\n",
    "    print(f\"Data has been stored inside of an csv file named: {name_the_file}\")\n",
    "    print(\"\\nSize of file: \" + str(os.stat(name_the_file).st_size) + \" KB\")    \n",
    "\n"
   ]
  },
  {
   "cell_type": "code",
   "execution_count": 31,
   "id": "89d779df",
   "metadata": {},
   "outputs": [
    {
     "name": "stdout",
     "output_type": "stream",
     "text": [
      "Paste the webpage you would like to scrape (include http/https): https://www.w3schools.com/\n",
      "Name the file you would like to save the data in (don't include .csv): file_1\n",
      "\n",
      "\n",
      "Webpage is currently being scrapped... please wait...\n",
      "Data has been stored inside of an csv file named: file_1.csv\n",
      "\n",
      "Size of file: 579 KB\n"
     ]
    }
   ],
   "source": [
    "main()"
   ]
  },
  {
   "cell_type": "code",
   "execution_count": null,
   "id": "d1e9cead",
   "metadata": {},
   "outputs": [],
   "source": []
  },
  {
   "cell_type": "code",
   "execution_count": null,
   "id": "1e58df77",
   "metadata": {},
   "outputs": [],
   "source": []
  },
  {
   "cell_type": "code",
   "execution_count": null,
   "id": "4116755d",
   "metadata": {},
   "outputs": [],
   "source": []
  }
 ],
 "metadata": {
  "kernelspec": {
   "display_name": "Python 3 (ipykernel)",
   "language": "python",
   "name": "python3"
  },
  "language_info": {
   "codemirror_mode": {
    "name": "ipython",
    "version": 3
   },
   "file_extension": ".py",
   "mimetype": "text/x-python",
   "name": "python",
   "nbconvert_exporter": "python",
   "pygments_lexer": "ipython3",
   "version": "3.9.13"
  }
 },
 "nbformat": 4,
 "nbformat_minor": 5
}
